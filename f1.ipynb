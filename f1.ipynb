{
  "nbformat": 4,
  "nbformat_minor": 0,
  "metadata": {
    "colab": {
      "provenance": [],
      "authorship_tag": "ABX9TyOxF3dfsUfra65YuuGy0oru"
    },
    "kernelspec": {
      "name": "python3",
      "display_name": "Python 3"
    }
  },
  "cells": [
    {
      "cell_type": "code",
      "metadata": {
        "id": "oJuO5TznuymF"
      },
      "source": [],
      "execution_count": null,
      "outputs": []
    }
  ]
}